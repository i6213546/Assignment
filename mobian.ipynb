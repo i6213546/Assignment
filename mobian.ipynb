{
 "cells": [
  {
   "cell_type": "code",
   "execution_count": 15,
   "metadata": {},
   "outputs": [],
   "source": [
    "import sys\n",
    "if 'google.colab' in sys.modules:\n",
    "    import os\n",
    "    from google.colab import files\n",
    "    # just check if we already uploaded, may we restart the runtime and run all cells\n",
    "    if not os.path.isfile('mobian.xlsx'):\n",
    "        uploaded = files.upload()"
   ]
  },
  {
   "cell_type": "code",
   "execution_count": 16,
   "metadata": {},
   "outputs": [],
   "source": [
    "import pandas as pd\n",
    "import numpy as np\n",
    "import pyomo.environ as pyo"
   ]
  },
  {
   "cell_type": "code",
   "execution_count": 18,
   "metadata": {},
   "outputs": [],
   "source": [
    "data = pd.read_excel('mobian_data.xlsx', sheet_name=None, index_col=0)"
   ]
  },
  {
   "cell_type": "code",
   "execution_count": 19,
   "metadata": {},
   "outputs": [],
   "source": [
    "demand = data['v'].reset_index()\n",
    "\n",
    "distances_jh = data['d_jh'].reset_index()\n",
    "distances_hp = data['d_hp'].reset_index()\n",
    "distances_jp = data['d_jp'].reset_index()\n",
    "\n",
    "time_jh = data['c_jh'].reset_index()\n",
    "time_hp = data['b_hp'].reset_index()\n",
    "time_jp = data['c_jp'].reset_index()\n",
    "\n",
    "junctions = data['junctions']\n",
    "hubs      = data['hubs']\n",
    "pois      = data['pois']\n",
    "\n",
    "junctions_index = set(junctions.index)\n",
    "hubs_index      = set(hubs.index)\n",
    "pois_index      = set(pois.index)\n",
    "\n",
    "parameters = data['single_parameters'].reset_index().to_dict('records')[0]"
   ]
  },
  {
   "cell_type": "code",
   "execution_count": 20,
   "metadata": {},
   "outputs": [],
   "source": [
    "demand.columns = list(pois.index)\n",
    "demand         = demand.T.groupby(axis=0, level=0).mean().T\n",
    "demand.index   = list(junctions.index)\n",
    "\n",
    "\n",
    "distances_jh.columns = list(hubs.index)\n",
    "distances_jh         = distances_jh.T.groupby(axis=0, level=0).mean().T\n",
    "distances_jh.index   = list(junctions.index)\n",
    "\n",
    "distances_hp.columns = list(pois.index)\n",
    "distances_hp         = distances_hp.T.groupby(axis=0, level=0).mean().T\n",
    "distances_hp.index   = list(hubs.index)\n",
    "distances_hp         = distances_hp.groupby(axis=0, level=0).mean()\n",
    "\n",
    "distances_jp.columns = list(pois.index)\n",
    "distances_jp         = distances_jp.T.groupby(axis=0, level=0).mean().T\n",
    "distances_jp.index   = list(junctions.index)\n",
    "\n",
    "\n",
    "time_jh.columns = list(hubs.index)\n",
    "time_jh         = time_jh.T.groupby(axis=0, level=0).mean().T\n",
    "time_jh.index   = list(junctions.index)\n",
    "\n",
    "time_hp.columns = list(pois.index)\n",
    "time_hp         = time_hp.T.groupby(axis=0, level=0).mean().T\n",
    "time_hp.index   = list(hubs.index)\n",
    "time_hp         = time_hp.groupby(axis=0, level=0).mean()\n",
    "\n",
    "time_jp.columns = list(pois.index)\n",
    "time_jp         = time_jp.T.groupby(axis=0, level=0).mean().T\n",
    "time_jp.index   = list(junctions.index)\n",
    "\n"
   ]
  },
  {
   "cell_type": "code",
   "execution_count": 29,
   "metadata": {},
   "outputs": [
    {
     "name": "stdout",
     "output_type": "stream",
     "text": [
      "WARNING: Element Parkbee Overtoom already exists in Set H; no action taken\n",
      "WARNING: Element Waterlooplein already exists in Set H; no action taken\n",
      "WARNING: Element Willemspoort already exists in Set H; no action taken\n",
      "WARNING: Element Heinekenplein already exists in Set H; no action taken\n",
      "WARNING: Element Sloterdijk Amsterdam already exists in Set P; no action taken\n"
     ]
    }
   ],
   "source": [
    "model = pyo.ConcreteModel('Mobian')\n",
    "\n",
    "#Set index initialize\n",
    "model.J = pyo.Set(initialize = junctions.index) #junctions\n",
    "model.H = pyo.Set(initialize = hubs.index) #hubs\n",
    "model.P = pyo.Set(initialize = pois.index) #pois\n",
    "\n",
    "#Parameters\n",
    "# single parameters\n",
    "model.Delta = pyo.Param(mutable = False, default = parameters['Delta'])\n",
    "model.tau   = pyo.Param(mutable = False, default = parameters['tau'])\n",
    "model.T     = pyo.Param(mutable = False, default = parameters['T'])\n",
    "model.D     = pyo.Param(mutable = False, default = parameters['D'])\n",
    "model.U     = pyo.Param(mutable = False, default = parameters['U'])\n",
    "\n",
    "#distance from a location to another\n",
    "model.d_jp = pyo.Param(model.J, model.P, \n",
    "                       initialize = lambda model, j, p: distances_jp.loc[j, p])\n",
    "\n",
    "model.d_jh = pyo.Param(model.J, model.H, \n",
    "                       initialize = lambda model, j, h: distances_jh.loc[j, h])\n",
    "\n",
    "model.d_hp = pyo.Param(model.H, model.P, \n",
    "                       initialize = lambda model, h, p: distances_hp.loc[h, p])\n",
    "\n",
    "#car/bike time from a location to another\n",
    "model.t_jp = pyo.Param(model.J, model.P, \n",
    "                       initialize = lambda model, j, p: time_jp.loc[j, p])\n",
    "\n",
    "model.t_jh = pyo.Param(model.J, model.H, \n",
    "                       initialize = lambda model, j, h: time_jh.loc[j, h])\n",
    "\n",
    "model.t_hp = pyo.Param(model.H, model.P,\n",
    "                       initialize = lambda model, h, p: time_hp.loc[h, p])\n",
    "\n",
    "#demand from a junction to a poi\n",
    "model.n_jp = pyo.Param(model.J, model.P,\n",
    "                       initialize = lambda model, j, p: demand.loc[j, p])\n",
    "#variables\n",
    "model.x = pyo.Var(model.H, within = pyo.Binary)\n",
    "model.z = pyo.Var(model.J, model.P, within = pyo.Binary)"
   ]
  },
  {
   "cell_type": "code",
   "execution_count": 30,
   "metadata": {},
   "outputs": [],
   "source": [
    "# Objective function\n",
    "@model.Objective(sense=pyo.maximize)\n",
    "def obj(model):\n",
    "    return pyo.quicksum(pyo.quicksum(model.n_jp[j, p]*model.z[j, p] for j in model.J) for p in model.P)\n",
    "\n",
    "# Constraint on delta\n",
    "@model.Constraint(model.J, model.P)\n",
    "def maximum_extra_time(model, j, p):\n",
    "\n",
    "    temp = pyo.quicksum(model.x[h] for h in model.H \n",
    "                       if model.t_jh[j,h]+model.t_hp[h,p]-model.t_jp[j,p] <= model.Delta)\n",
    "    \n",
    "    return model.z[j, p] <= temp\n",
    "\n",
    "\n",
    "# Constraint on T\n",
    "@model.Constraint(model.J, model.P)\n",
    "def maximum_biking_time(model, j, p):\n",
    "\n",
    "    temp = pyo.quicksum(model.x[h] for h in model.H \n",
    "                       if model.t_hp[h, p] <= model.T)\n",
    "    \n",
    "    return model.z[j, p] <= temp\n",
    "\n",
    "# Constraint on D\n",
    "@model.Constraint(model.J, model.P)\n",
    "def minimum_biking_dist(model, j, p):\n",
    "\n",
    "    temp = pyo.quicksum(model.x[h] for h in model.H \n",
    "                       if model.d_hp[h, p] > model.D)\n",
    "    \n",
    "    return model.z[j, p] <= temp\n",
    "\n",
    "# Constraint on tau\n",
    "@model.Constraint(model.J, model.P)\n",
    "def minimum_car_dist_saved(model, j, p):\n",
    "\n",
    "    temp = pyo.quicksum(model.x[h] for h in model.H \n",
    "                       if model.d_jp[j, p]-model.d_jh[j, h] > model.tau)\n",
    "    \n",
    "    return model.z[j, p] <= temp\n",
    "\n",
    "#Constraint on x_h\n",
    "@model.Constraint()\n",
    "def max_hub_built(model):\n",
    "    return pyo.quicksum(model.x[h] for h in model.H) <= model.U\n",
    "\n"
   ]
  },
  {
   "cell_type": "code",
   "execution_count": 31,
   "metadata": {},
   "outputs": [],
   "source": [
    "solver = pyo.SolverFactory('glpk')\n",
    "result = solver.solve(model)"
   ]
  },
  {
   "cell_type": "code",
   "execution_count": 32,
   "metadata": {},
   "outputs": [
    {
     "name": "stdout",
     "output_type": "stream",
     "text": [
      "x[Mobihub Sloterdijk] 1.0\n",
      "x[Louwesweg] 1.0\n",
      "x[Parking55] 1.0\n",
      "x[P1 Parking Amsterdam Centraal] 1.0\n",
      "x[Parking138] 1.0\n"
     ]
    }
   ],
   "source": [
    "for i in model.x:\n",
    "    if model.x[i].value > 0:\n",
    "        print(str(model.x[i]), model.x[i].value)"
   ]
  }
 ],
 "metadata": {
  "kernelspec": {
   "display_name": "base",
   "language": "python",
   "name": "python3"
  },
  "language_info": {
   "codemirror_mode": {
    "name": "ipython",
    "version": 3
   },
   "file_extension": ".py",
   "mimetype": "text/x-python",
   "name": "python",
   "nbconvert_exporter": "python",
   "pygments_lexer": "ipython3",
   "version": "3.11.4"
  },
  "orig_nbformat": 4
 },
 "nbformat": 4,
 "nbformat_minor": 2
}
